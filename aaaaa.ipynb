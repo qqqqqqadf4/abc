{
 "cells": [
  {
   "cell_type": "code",
   "execution_count": 1,
   "metadata": {},
   "outputs": [
    {
     "name": "stdout",
     "output_type": "stream",
     "text": [
      "김\n",
      "승\n",
      "우\n"
     ]
    }
   ],
   "source": [
    "name = input('이름을 입력하세요: ')\n",
    "\n",
    "for i in name:\n",
    "    print(i)"
   ]
  },
  {
   "cell_type": "code",
   "execution_count": 2,
   "metadata": {},
   "outputs": [
    {
     "name": "stdout",
     "output_type": "stream",
     "text": [
      "봄\n",
      "여름\n",
      "가을\n",
      "겨울\n"
     ]
    }
   ],
   "source": [
    "season = [\"봄\", '여름', '가을', '겨울']\n",
    "\n",
    "for i in season:\n",
    "    print(i)"
   ]
  },
  {
   "cell_type": "code",
   "execution_count": 26,
   "metadata": {},
   "outputs": [
    {
     "name": "stdout",
     "output_type": "stream",
     "text": [
      "오류\n"
     ]
    }
   ],
   "source": [
    "grade = input('점수를 입력하세요: ')\n",
    "\n",
    "if grade.isalpha() or int(grade)>100 or int(grade)<0:\n",
    "    print(\"오류\")\n",
    "elif 100>=int(grade)>=90:\n",
    "    print(\"A\")\n",
    "elif 90>int(grade)>=80:\n",
    "    print(\"B\")\n",
    "elif 80>int(grade)>=70:\n",
    "    print(\"C\")\n",
    "elif 70>int(grade)>=60:\n",
    "    print(\"D\")\n",
    "else:\n",
    "    print(\"E\")"
   ]
  },
  {
   "cell_type": "code",
   "execution_count": 39,
   "metadata": {},
   "outputs": [
    {
     "name": "stdout",
     "output_type": "stream",
     "text": [
      "E\n"
     ]
    }
   ],
   "source": [
    "grade = input('점수를 입력하세요: ')\n",
    "while not grade.isnumeric() or int(grade)>100 or int(grade)<0:\n",
    "    grade = input('점수를 입력하세요: ')\n",
    "\n",
    "if 100>=int(grade)>=90:\n",
    "    print(\"A\")\n",
    "elif 90>int(grade)>=80:\n",
    "    print(\"B\")\n",
    "elif 80>int(grade)>=70:\n",
    "    print(\"C\")\n",
    "elif 70>int(grade)>=60:\n",
    "    print(\"D\")\n",
    "else:\n",
    "    print(\"E\")"
   ]
  },
  {
   "cell_type": "code",
   "execution_count": null,
   "metadata": {},
   "outputs": [
    {
     "name": "stdout",
     "output_type": "stream",
     "text": [
      "['봄', '여름', '가을']\n"
     ]
    }
   ],
   "source": [
    "season = ['봄', '여름', '가을']\n",
    "\n",
    "\n",
    "\n",
    "print(season[::-1])"
   ]
  },
  {
   "cell_type": "code",
   "execution_count": 104,
   "metadata": {},
   "outputs": [
    {
     "name": "stdout",
     "output_type": "stream",
     "text": [
      "['봄', '여름', '가을', '겨울']\n"
     ]
    }
   ],
   "source": [
    "season = ['봄', '여름', '가을']\n",
    "\n",
    "season.append('겨울')\n",
    "\n",
    "print(season)"
   ]
  },
  {
   "cell_type": "code",
   "execution_count": 108,
   "metadata": {},
   "outputs": [
    {
     "name": "stdout",
     "output_type": "stream",
     "text": [
      "0 번째 인덱스의 숫자는 10 입니다\n",
      "1 번째 인덱스의 숫자는 4 입니다\n",
      "3 번째 인덱스의 숫자는 5 입니다\n",
      "4 번째 인덱스의 숫자는 3 입니다\n",
      "5 번째 인덱스의 숫자는 4 입니다\n",
      "7 번째 인덱스의 숫자는 7 입니다\n",
      "8 번째 인덱스의 숫자는 3 입니다\n",
      "9 번째 인덱스의 숫자는 3 입니다\n"
     ]
    }
   ],
   "source": [
    "import random\n",
    "\n",
    "numbers = []\n",
    "\n",
    "for i in range(10):\n",
    "    numbers.append(random.randint(0,10))\n",
    "\n",
    "for i in range(10):\n",
    "    if numbers[i]>=3:\n",
    "        print(i,'번째 인덱스의 숫자는',numbers[i],'입니다')"
   ]
  },
  {
   "cell_type": "code",
   "execution_count": 145,
   "metadata": {},
   "outputs": [
    {
     "name": "stdout",
     "output_type": "stream",
     "text": [
      "0 번째 인덱스의 숫자는 3 입니다\n",
      "2 번째 인덱스의 숫자는 3 입니다\n",
      "4 번째 인덱스의 숫자는 3 입니다\n",
      "6 번째 인덱스의 숫자는 3 입니다\n",
      "7 번째 인덱스의 숫자는 3 입니다\n",
      "8 번째 인덱스의 숫자는 4 입니다\n",
      "9 번째 인덱스의 숫자는 5 입니다\n",
      "(0, 3)\n",
      "<class 'tuple'>\n",
      "(1, 1)\n",
      "<class 'tuple'>\n",
      "(2, 3)\n",
      "<class 'tuple'>\n",
      "(3, 1)\n",
      "<class 'tuple'>\n",
      "(4, 3)\n",
      "<class 'tuple'>\n",
      "(5, 1)\n",
      "<class 'tuple'>\n",
      "(6, 3)\n",
      "<class 'tuple'>\n",
      "(7, 3)\n",
      "<class 'tuple'>\n",
      "(8, 4)\n",
      "<class 'tuple'>\n",
      "(9, 5)\n",
      "<class 'tuple'>\n",
      "<class 'str'>\n"
     ]
    }
   ],
   "source": [
    "#Enumerate\n",
    "\n",
    "import random\n",
    "\n",
    "numbers = []\n",
    "\n",
    "for i in range(10):\n",
    "    numbers.append(random.randint(0,5))\n",
    "\n",
    "for index, value in enumerate(numbers):\n",
    "    if value>=3:\n",
    "        print(index,'번째 인덱스의 숫자는',value,'입니다')\n",
    "\n",
    "for aaaaaa in enumerate(numbers):\n",
    "    print(aaaaaa)\n",
    "    print(type(aaaaaa))\n",
    "\n",
    "print(type('111'))"
   ]
  }
 ],
 "metadata": {
  "kernelspec": {
   "display_name": "Python 3",
   "language": "python",
   "name": "python3"
  },
  "language_info": {
   "codemirror_mode": {
    "name": "ipython",
    "version": 3
   },
   "file_extension": ".py",
   "mimetype": "text/x-python",
   "name": "python",
   "nbconvert_exporter": "python",
   "pygments_lexer": "ipython3",
   "version": "3.12.1"
  }
 },
 "nbformat": 4,
 "nbformat_minor": 2
}
