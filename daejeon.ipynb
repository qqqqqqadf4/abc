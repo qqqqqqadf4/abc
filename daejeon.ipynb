{
 "cells": [
  {
   "cell_type": "code",
   "execution_count": 7,
   "metadata": {},
   "outputs": [
    {
     "name": "stdout",
     "output_type": "stream",
     "text": [
      "['날짜', '지점', '평균기온(℃)', '최저기온(℃)', '최고기온(℃)']\n",
      "기상 관측 이래, 대전의 최고 기온이 가장 높았던 날은 2018-08-15 일로, 39.4 도 였습니다.\n"
     ]
    }
   ],
   "source": [
    "import csv\n",
    "\n",
    "# 기상 관측 이래, 대전의 최고 기온이 가장 높았던 날과, 그 때의 최고 기온\n",
    "f = open('Daejeon_temp.csv','r', encoding='cp949')\n",
    "data = csv.reader(f,delimiter=',')\n",
    "header = next(data)\n",
    "print(header)\n",
    "\n",
    "max_temp =-999\n",
    "max_date =' '\n",
    "for row in data:\n",
    "    if row[-1] =='':\n",
    "        row[-1] = '-999'\n",
    "    row[-1] = float(row[-1])\n",
    "    if max_temp < row[-1]:\n",
    "        max_temp = row[-1]\n",
    "        max_date = row[0]\n",
    "f.close()\n",
    "\n",
    "print('기상 관측 이래, 대전의 최고 기온이 가장 높았던 날은', max_date,'일로,', max_temp, '도 였습니다.')"
   ]
  },
  {
   "cell_type": "code",
   "execution_count": null,
   "metadata": {},
   "outputs": [
    {
     "name": "stdout",
     "output_type": "stream",
     "text": [
      "['날짜', '지점', '평균기온(℃)', '최저기온(℃)', '최고기온(℃)']\n",
      "기상 관측 이래, 대전의 최고 기온과 최저 기온 차의 평균이 가장 높은 달은 4 월로, 12.5 도 였습aaa니다.\n"
     ]
    }
   ],
   "source": [
    "import csv\n",
    "import numpy\n",
    "\n",
    "# 기상 관측 이래, 대전의 최고 기온과 최저 기온 차의 평균이 가장 높은 달\n",
    "f = open('Daejeon_temp.csv','r', encoding='cp949')\n",
    "data = csv.reader(f,delimiter=',')\n",
    "header = next(data)\n",
    "print(header)\n",
    "max_avg_temp_range = 0\n",
    "max_avg_temp_range_date = ''\n",
    "temp_ranges = [[],[],[],[],[],[],[],[],[],[],[],[]]\n",
    "\n",
    "for row in data:\n",
    "    if row[-2] != '' and row[-1] != '':\n",
    "        temp_range = float(row[-1])-float(row[-2])\n",
    "        temp_ranges[int(row[0].split('-')[1])-1].append(temp_range)\n",
    "\n",
    "for index,temp_range in enumerate(temp_ranges):\n",
    "    avg_temp_range = numpy.mean(temp_range)\n",
    "    if avg_temp_range > max_avg_temp_range:\n",
    "        max_avg_temp_range = avg_temp_range\n",
    "        max_avg_temp_range_date = index + 1\n",
    "\n",
    "max_avg_temp_range = round(max_avg_temp_range, 1)\n",
    "\n",
    "print('기상 관측 이래, 대전의 최고 기온과 최저 기온 차의 평균이 가장 높은 달은',max_avg_temp_range_date, '월로,', max_avg_temp_range, '도 였습니다.')\n",
    "\n",
    "f.close()\n"
   ]
  },
  {
   "cell_type": "code",
   "execution_count": null,
   "metadata": {},
   "outputs": [
    {
     "name": "stdout",
     "output_type": "stream",
     "text": [
      "['날짜', '지점', '평균기온(℃)', '최저기온(℃)', '최고기온(℃)']\n",
      "기상 관측 이래, 12, 1, 2월 중 대전 최저 기온의 평균이 가장 낮은 달은 1 월로,  -5.9 도 였습니다.\n"
     ]
    }
   ],
   "source": [
    "import csv\n",
    "import numpy\n",
    "\n",
    "# 기상 관측 이래, 대전의 12,1,2월 중 최저 기온의 평균이 가장 낮은 달은?\n",
    "\n",
    "f = open('Daejeon_temp.csv','r', encoding='cp949')\n",
    "data = csv.reader(f)\n",
    "header = next(data)\n",
    "print(header)\n",
    "\n",
    "min_avg_min_temp = 999\n",
    "min_avg_min_temp_date = ''\n",
    "\n",
    "min_temps = [[], [], []]\n",
    "target_date=[12 ,1 ,2]\n",
    "\n",
    "for row in data:\n",
    "    if row[-2] != '':\n",
    "        month = int(row[0].split('-')[1])\n",
    "        if month in target_date:\n",
    "            min_temps[target_date.index(month)].append(float(row[-2]))\n",
    "\n",
    "f.close()\n",
    "\n",
    "for index, min_temp in enumerate(min_temps):\n",
    "    avg_min_temp = numpy.mean(min_temp)\n",
    "    if avg_min_temp < min_avg_min_temp:\n",
    "        min_avg_min_temp = avg_min_temp\n",
    "        min_avg_min_temp_date = target_date[index]\n",
    "\n",
    "min_avg_min_temp = round(min_avg_min_temp, 1)\n",
    "\n",
    "print('기상 관측 이래, 12, 1, 2월 중 대전 최저 기온의 평균이 가장 낮은 달은', min_avg_min_temp_date, '월로, ', min_avg_min_temp, '도 였습니다.')\n"
   ]
  },
  {
   "cell_type": "code",
   "execution_count": 30,
   "metadata": {},
   "outputs": [
    {
     "name": "stdout",
     "output_type": "stream",
     "text": [
      "['날짜', '지점', '평균기온(℃)', '최저기온(℃)', '최고기온(℃)']\n",
      "['날짜', '지점', '평균기온(℃)', '최저기온(℃)', '최고기온(℃)']\n",
      "기상 관측 이래, 대구의 최고 기온보다 대전의 최고 기온이 높은 날은 총 4925 일 입니다.\n"
     ]
    }
   ],
   "source": [
    "import csv\n",
    "\n",
    "# 기상 관측 이래, 대구의 최고 기온보다 대전의 최고 기온이 높은 날은 몇 일일까?\n",
    "\n",
    "f1 = open('Daejeon_temp.csv', 'r', encoding = 'cp949')\n",
    "f2 = open('Daegu_temp.csv', 'r', encoding = 'cp949')\n",
    "\n",
    "data1 = csv.reader(f1)\n",
    "data2 = csv.reader(f2)\n",
    "\n",
    "header1 = next(data1)\n",
    "header2 = next(data2)\n",
    "\n",
    "print(header1)\n",
    "print(header2)\n",
    "\n",
    "dj_max_temps = []\n",
    "dj_dates = []\n",
    "dg_max_temps = []\n",
    "dg_dates = []\n",
    "count = 0\n",
    "\n",
    "for row1 in data1:\n",
    "    dj_max_temps.append(row1[-1])\n",
    "    dj_dates.append(row1[0])\n",
    "\n",
    "for row2 in data2:\n",
    "    dg_max_temps.append(row2[-1])\n",
    "    dg_dates.append(row2[0])\n",
    "\n",
    "f1.close()\n",
    "f2.close()\n",
    "\n",
    "if dj_dates == dg_dates:\n",
    "    for index in range(len(dj_max_temps)):\n",
    "        dj_max_temp = dj_max_temps[index]\n",
    "        dg_max_temp = dg_max_temps[index]\n",
    "\n",
    "        if dj_max_temp != '' and dg_max_temp != '':\n",
    "            dj_max_temp = float(dj_max_temp)\n",
    "            dg_max_temp = float(dg_max_temp)\n",
    "\n",
    "            if dj_max_temp > dg_max_temp:\n",
    "                count = count + 1\n",
    "\n",
    "print('기상 관측 이래, 대구의 최고 기온보다 대전의 최고 기온이 높은 날은 총', count, '일 입니다.')"
   ]
  },
  {
   "cell_type": "code",
   "execution_count": 12,
   "metadata": {},
   "outputs": [
    {
     "name": "stdout",
     "output_type": "stream",
     "text": [
      "['날짜', '지점', '평균기온(℃)', '최저기온(℃)', '최고기온(℃)']\n",
      "[56, 56, 56, 52, 21, 4, 35, 50, 56, 56, 56, 56]\n",
      "[0, 0, 0, 3, 35, 50, 19, 6, 0, 0, 0, 0]\n"
     ]
    }
   ],
   "source": [
    "#1923-05-01~2025_04-05\n",
    "#월별 평균 기온이 가장 높은 곳(1월 대구 몇회, 대전 몇회...)\n",
    "import csv\n",
    "\n",
    "f1 = open('Jeju_temp.csv','r',encoding='cp949')\n",
    "f2 = open('Daejeon_temp.csv','r',encoding='cp949')\n",
    "\n",
    "data1 = csv.reader(f1,delimiter=',')\n",
    "data2 = csv.reader(f2,delimiter=',')\n",
    "\n",
    "header1 = next(data1)\n",
    "header2 = next(data2)\n",
    "\n",
    "print(header1)\n",
    "\n",
    "count_avg_jj_year = [0,0,0,0,0,0,0,0,0,0,0,0]\n",
    "count_avg_dj_year = [0,0,0,0,0,0,0,0,0,0,0,0]\n",
    "\n",
    "count_avg_jj_final = [0,0,0,0,0,0,0,0,0,0,0,0]\n",
    "count_avg_dj_final = [0,0,0,0,0,0,0,0,0,0,0,0]\n",
    "\n",
    "jj_avg_temps = []\n",
    "dj_avg_temps = []\n",
    "\n",
    "years = []\n",
    "months = []\n",
    "\n",
    "start_year = 1968\n",
    "\n",
    "for row1 in data1:\n",
    "    if row1[2] == '':\n",
    "        row1[2] = -999\n",
    "    jj_avg_temps.append(float(row1[2]))\n",
    "    years.append(int(row1[0].split('-')[0]))\n",
    "    months.append(int(row1[0].split('-')[1]))\n",
    "\n",
    "for row2 in data2:\n",
    "    if row2[2] == '':\n",
    "        row2[2] = -999\n",
    "    dj_avg_temps.append(float(row2[2]))\n",
    "\n",
    "for i in range(len(years)):\n",
    "    if years[i] != years[i-1]:\n",
    "        for j in range(12):\n",
    "            if count_avg_jj_year[j] > count_avg_dj_year[j]:\n",
    "                count_avg_jj_final[j] +=1\n",
    "            elif count_avg_jj_year[j] < count_avg_dj_year[j]:\n",
    "                count_avg_dj_final[j] +=1\n",
    "\n",
    "        count_avg_jj_year = [0,0,0,0,0,0,0,0,0,0,0,0]\n",
    "        count_avg_dj_year = [0,0,0,0,0,0,0,0,0,0,0,0]\n",
    "    if jj_avg_temps[i] == dj_avg_temps[i]:\n",
    "        pass\n",
    "    else:\n",
    "        if jj_avg_temps[i] > dj_avg_temps[i]:\n",
    "            count_avg_jj_year[months[i]-1] += 1\n",
    "        elif jj_avg_temps[i] < dj_avg_temps[i]:\n",
    "            count_avg_dj_year[months[i]-1] += 1\n",
    "\n",
    "\n",
    "\n",
    "f1.close()\n",
    "f2.close()\n",
    "\n",
    "\n",
    "print(count_avg_jj_final)\n",
    "print(count_avg_dj_final)\n",
    "\n"
   ]
  },
  {
   "cell_type": "code",
   "execution_count": 3,
   "metadata": {},
   "outputs": [
    {
     "name": "stdout",
     "output_type": "stream",
     "text": [
      "111\n"
     ]
    }
   ],
   "source": [
    "print(max(12,15,111))"
   ]
  }
 ],
 "metadata": {
  "kernelspec": {
   "display_name": "Python 3",
   "language": "python",
   "name": "python3"
  },
  "language_info": {
   "codemirror_mode": {
    "name": "ipython",
    "version": 3
   },
   "file_extension": ".py",
   "mimetype": "text/x-python",
   "name": "python",
   "nbconvert_exporter": "python",
   "pygments_lexer": "ipython3",
   "version": "3.12.1"
  }
 },
 "nbformat": 4,
 "nbformat_minor": 2
}
