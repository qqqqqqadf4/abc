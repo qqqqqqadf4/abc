{
 "cells": [
  {
   "cell_type": "code",
   "execution_count": 7,
   "metadata": {},
   "outputs": [
    {
     "name": "stdout",
     "output_type": "stream",
     "text": [
      "['날짜', '지점', '평균기온(℃)', '최저기온(℃)', '최고기온(℃)']\n",
      "기상 관측 이래, 대전의 최고 기온이 가장 높았던 날은 2018-08-15 일로, 39.4 도 였습니다.\n"
     ]
    }
   ],
   "source": [
    "import csv\n",
    "\n",
    "# 기상 관측 이래, 대전의 최고 기온이 가장 높았던 날과, 그 때의 최고 기온\n",
    "f = open('Daejeon_temp.csv','r', encoding='cp949')\n",
    "data = csv.reader(f,delimiter=',')\n",
    "header = next(data)\n",
    "print(header)\n",
    "\n",
    "max_temp =-999\n",
    "max_date =' '\n",
    "for row in data:\n",
    "    if row[-1] =='':\n",
    "        row[-1] = '-999'\n",
    "    row[-1] = float(row[-1])\n",
    "    if max_temp < row[-1]:\n",
    "        max_temp = row[-1]\n",
    "        max_date = row[0]\n",
    "f.close()\n",
    "\n",
    "print('기상 관측 이래, 대전의 최고 기온이 가장 높았던 날은', max_date,'일로,', max_temp, '도 였습니다.')"
   ]
  },
  {
   "cell_type": "code",
   "execution_count": null,
   "metadata": {},
   "outputs": [
    {
     "name": "stdout",
     "output_type": "stream",
     "text": [
      "['날짜', '지점', '평균기온(℃)', '최저기온(℃)', '최고기온(℃)']\n",
      "기상 관측 이래, 대전의 최고 기온과 최저 기온 차의 평균이 가장 높은 달은 4 월로, 12.5 도 였습니다.\n"
     ]
    }
   ],
   "source": [
    "import csv\n",
    "import numpy\n",
    "\n",
    "# 기상 관측 이래, 대전의 최고 기온과 최저 기온 차의 평균이 가장 높은 달\n",
    "f = open('Daejeon_temp.csv','r', encoding='cp949')\n",
    "data = csv.reader(f,delimiter=',')\n",
    "header = next(data)\n",
    "print(header)\n",
    "max_avg_temp_range = 0\n",
    "max_avg_temp_range_date = ''\n",
    "temp_ranges = [[],[],[],[],[],[],[],[],[],[],[],[]]\n",
    "\n",
    "for row in data:\n",
    "    if row[-2] != '' and row[-1] != '':\n",
    "        temp_range = float(row[-1])-float(row[-2])\n",
    "        temp_ranges[int(row[0].split('-')[1])-1].append(temp_range)\n",
    "\n",
    "for index,temp_range in enumerate(temp_ranges):\n",
    "    avg_temp_range = numpy.mean(temp_range)\n",
    "    if avg_temp_range > max_avg_temp_range:\n",
    "        max_avg_temp_range = avg_temp_range\n",
    "        max_avg_temp_range_date = index + 1\n",
    "\n",
    "max_avg_temp_range = round(max_avg_temp_range, 1)\n",
    "\n",
    "print('기상 관측 이래, 대전의 최고 기온과 최저 기온 차의 평균이 가장 높은 달은',max_avg_temp_range_date, '월로,', max_avg_temp_range, '도 였습니다.')\n",
    "\n",
    "f.close()\n"
   ]
  }
 ],
 "metadata": {
  "kernelspec": {
   "display_name": "Python 3",
   "language": "python",
   "name": "python3"
  },
  "language_info": {
   "codemirror_mode": {
    "name": "ipython",
    "version": 3
   },
   "file_extension": ".py",
   "mimetype": "text/x-python",
   "name": "python",
   "nbconvert_exporter": "python",
   "pygments_lexer": "ipython3",
   "version": "3.12.1"
  }
 },
 "nbformat": 4,
 "nbformat_minor": 2
}
